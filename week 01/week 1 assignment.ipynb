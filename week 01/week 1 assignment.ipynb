{
 "cells": [
  {
   "cell_type": "markdown",
   "id": "404e2100-4239-441c-b3db-c5a1c2a289af",
   "metadata": {},
   "source": [
    "Data Analysis Assignment:\n",
    "Description of what I'm doing."
   ]
  },
  {
   "cell_type": "code",
   "execution_count": 21,
   "id": "d47d394c-b2ce-449a-989f-a1ac904c4108",
   "metadata": {},
   "outputs": [],
   "source": [
    "import pandas"
   ]
  },
  {
   "cell_type": "code",
   "execution_count": 27,
   "id": "43a3c665-3954-4d0c-94b8-711da5791645",
   "metadata": {},
   "outputs": [],
   "source": [
    "lead = pandas.read_csv('lead-tool-map-data.csv')"
   ]
  },
  {
   "cell_type": "markdown",
   "id": "0f9b7d6b-93a8-4eb5-bd3d-ebf31a7529f4",
   "metadata": {},
   "source": [
    "Using the shape command:\n",
    "In the following cell I will use the shape command to determine how many columns and rows my dataset has. The output will list the number of rows, then the number of columns. "
   ]
  },
  {
   "cell_type": "code",
   "execution_count": 30,
   "id": "c0110f10-988d-4cba-b795-9740655edff0",
   "metadata": {},
   "outputs": [
    {
     "data": {
      "text/plain": [
       "(7956, 5)"
      ]
     },
     "execution_count": 30,
     "metadata": {},
     "output_type": "execute_result"
    }
   ],
   "source": [
    "lead.shape"
   ]
  },
  {
   "cell_type": "markdown",
   "id": "190f868d-58d7-4d5a-849c-5e001d1f0a94",
   "metadata": {},
   "source": [
    "There are 7956 rows and 5 columns in my dataset."
   ]
  },
  {
   "cell_type": "markdown",
   "id": "f48af3b6-bcff-458a-af4c-a3e72844a33b",
   "metadata": {},
   "source": [
    "Using the info command:\n",
    "In the following cell I will use the info command to tell me the number of records, the datatypes, the number of columns, the names of the columns, and what columns do not have any data in my dataset. "
   ]
  },
  {
   "cell_type": "code",
   "execution_count": 31,
   "id": "2ad97ce8-a85a-412d-a981-af2d77ac3dce",
   "metadata": {},
   "outputs": [
    {
     "name": "stdout",
     "output_type": "stream",
     "text": [
      "<class 'pandas.core.frame.DataFrame'>\n",
      "RangeIndex: 7956 entries, 0 to 7955\n",
      "Data columns (total 5 columns):\n",
      " #   Column                         Non-Null Count  Dtype \n",
      "---  ------                         --------------  ----- \n",
      " 0   Geography ID                   7956 non-null   int64 \n",
      " 1    Name                          7956 non-null   object\n",
      " 2   County                         7956 non-null   object\n",
      " 3   Tribal Areas                   123 non-null    object\n",
      " 4   Avg. Energy Burden (% income)  7956 non-null   int64 \n",
      "dtypes: int64(2), object(3)\n",
      "memory usage: 310.9+ KB\n"
     ]
    }
   ],
   "source": [
    "lead.info()"
   ]
  },
  {
   "cell_type": "markdown",
   "id": "b5afa763-279b-4caa-bce0-df42c5191e7e",
   "metadata": {},
   "source": [
    "There are 7955 records in my dataset, integer and object data types, 5 columns titled Geography ID, Name, County, Tribal Areas, and Avg. Energy Burden; and one column (Tribal Areas) has only 123 cells that have data. "
   ]
  },
  {
   "cell_type": "markdown",
   "id": "b38025c7-ef03-447f-819d-3cb6076a78d5",
   "metadata": {},
   "source": [
    "Using the head command:\n",
    "In the following cell I will use the head command to view the first 5 rows of my dataset."
   ]
  },
  {
   "cell_type": "code",
   "execution_count": 32,
   "id": "70f39b8d-c193-4c2a-8bb3-9b1bd4bc2e78",
   "metadata": {},
   "outputs": [
    {
     "data": {
      "text/html": [
       "<div>\n",
       "<style scoped>\n",
       "    .dataframe tbody tr th:only-of-type {\n",
       "        vertical-align: middle;\n",
       "    }\n",
       "\n",
       "    .dataframe tbody tr th {\n",
       "        vertical-align: top;\n",
       "    }\n",
       "\n",
       "    .dataframe thead th {\n",
       "        text-align: right;\n",
       "    }\n",
       "</style>\n",
       "<table border=\"1\" class=\"dataframe\">\n",
       "  <thead>\n",
       "    <tr style=\"text-align: right;\">\n",
       "      <th></th>\n",
       "      <th>Geography ID</th>\n",
       "      <th>Name</th>\n",
       "      <th>County</th>\n",
       "      <th>Tribal Areas</th>\n",
       "      <th>Avg. Energy Burden (% income)</th>\n",
       "    </tr>\n",
       "  </thead>\n",
       "  <tbody>\n",
       "    <tr>\n",
       "      <th>0</th>\n",
       "      <td>6099000101</td>\n",
       "      <td>Census Tract 1.01</td>\n",
       "      <td>Stanislaus County</td>\n",
       "      <td>NaN</td>\n",
       "      <td>3</td>\n",
       "    </tr>\n",
       "    <tr>\n",
       "      <th>1</th>\n",
       "      <td>6071000104</td>\n",
       "      <td>Census Tract 1.04</td>\n",
       "      <td>San Bernardino County</td>\n",
       "      <td>NaN</td>\n",
       "      <td>1</td>\n",
       "    </tr>\n",
       "    <tr>\n",
       "      <th>2</th>\n",
       "      <td>6073010014</td>\n",
       "      <td>Census Tract 100.14</td>\n",
       "      <td>San Diego County</td>\n",
       "      <td>NaN</td>\n",
       "      <td>2</td>\n",
       "    </tr>\n",
       "    <tr>\n",
       "      <th>3</th>\n",
       "      <td>6037104822</td>\n",
       "      <td>Census Tract 1048.22</td>\n",
       "      <td>Los Angeles County</td>\n",
       "      <td>NaN</td>\n",
       "      <td>3</td>\n",
       "    </tr>\n",
       "    <tr>\n",
       "      <th>4</th>\n",
       "      <td>6113010511</td>\n",
       "      <td>Census Tract 105.11</td>\n",
       "      <td>Yolo County</td>\n",
       "      <td>NaN</td>\n",
       "      <td>2</td>\n",
       "    </tr>\n",
       "  </tbody>\n",
       "</table>\n",
       "</div>"
      ],
      "text/plain": [
       "   Geography ID                  Name                 County Tribal Areas  \\\n",
       "0    6099000101     Census Tract 1.01      Stanislaus County          NaN   \n",
       "1    6071000104     Census Tract 1.04  San Bernardino County          NaN   \n",
       "2    6073010014   Census Tract 100.14       San Diego County          NaN   \n",
       "3    6037104822  Census Tract 1048.22     Los Angeles County          NaN   \n",
       "4    6113010511   Census Tract 105.11            Yolo County          NaN   \n",
       "\n",
       "   Avg. Energy Burden (% income)  \n",
       "0                              3  \n",
       "1                              1  \n",
       "2                              2  \n",
       "3                              3  \n",
       "4                              2  "
      ]
     },
     "execution_count": 32,
     "metadata": {},
     "output_type": "execute_result"
    }
   ],
   "source": [
    "lead.head()"
   ]
  },
  {
   "cell_type": "markdown",
   "id": "10e6d87b-6c72-4af2-a53f-fa087cdfcebd",
   "metadata": {},
   "source": [
    "As you can see, by using the head command, I've created an output that lists the first five rows and columns of my dataset."
   ]
  },
  {
   "cell_type": "markdown",
   "id": "6d6b484d-8a40-4fe2-b51c-9fedde34bb7a",
   "metadata": {},
   "source": [
    "Using the value counts command:\n",
    "Next, I will use the value counts command to determine how many data entries are associated with each value for a particular column. I will look at the counts for each entry of the Average Energy Burden Column."
   ]
  },
  {
   "cell_type": "code",
   "execution_count": 38,
   "id": "af84024e-d041-45b2-b22b-b2e19e982569",
   "metadata": {},
   "outputs": [
    {
     "data": {
      "text/plain": [
       "2     3298\n",
       "1     2552\n",
       "3     1260\n",
       "4      550\n",
       "5      214\n",
       "6       56\n",
       "7       21\n",
       "8        3\n",
       "71       1\n",
       "10       1\n",
       "Name: Avg. Energy Burden (% income), dtype: int64"
      ]
     },
     "execution_count": 38,
     "metadata": {},
     "output_type": "execute_result"
    }
   ],
   "source": [
    "lead['Avg. Energy Burden (% income)'].value_counts()"
   ]
  },
  {
   "cell_type": "markdown",
   "id": "2e2abfe1-0788-4f16-b4ff-a906d66f6ffd",
   "metadata": {},
   "source": [
    "As you can see, there is a range of energy burden percentages, from 1%-71% across all the census tracts. The most frequent energy burden percentage is 2%. "
   ]
  },
  {
   "cell_type": "markdown",
   "id": "9df45faa-5c90-489f-8bf0-9bc0b0bd639e",
   "metadata": {},
   "source": [
    "In order to use the plot command and do a query I will save my value count as a variable."
   ]
  },
  {
   "cell_type": "code",
   "execution_count": 39,
   "id": "278d9e2e-1a88-4436-8176-5e4c4b1d20cd",
   "metadata": {},
   "outputs": [],
   "source": [
    "energyburden_count = lead['Avg. Energy Burden (% income)'].value_counts()"
   ]
  },
  {
   "cell_type": "code",
   "execution_count": 40,
   "id": "3129380e-664a-4998-b746-16c3ddabe7c1",
   "metadata": {},
   "outputs": [
    {
     "data": {
      "text/plain": [
       "2     3298\n",
       "1     2552\n",
       "3     1260\n",
       "4      550\n",
       "5      214\n",
       "6       56\n",
       "7       21\n",
       "8        3\n",
       "71       1\n",
       "10       1\n",
       "Name: Avg. Energy Burden (% income), dtype: int64"
      ]
     },
     "execution_count": 40,
     "metadata": {},
     "output_type": "execute_result"
    }
   ],
   "source": [
    "energyburden_count"
   ]
  },
  {
   "cell_type": "markdown",
   "id": "9c27ebff-b464-41b9-bd43-3f2e8705b0ff",
   "metadata": {},
   "source": [
    "Now I will convert the series into a dataframe."
   ]
  },
  {
   "cell_type": "code",
   "execution_count": 42,
   "id": "efbdc299-82af-4daf-8fb8-a8511020984a",
   "metadata": {},
   "outputs": [],
   "source": [
    "energyburden_count = energyburden_count.reset_index()"
   ]
  },
  {
   "cell_type": "code",
   "execution_count": 43,
   "id": "8b7f8bd2-b5ab-4b10-ac20-840b5711b599",
   "metadata": {},
   "outputs": [
    {
     "data": {
      "text/html": [
       "<div>\n",
       "<style scoped>\n",
       "    .dataframe tbody tr th:only-of-type {\n",
       "        vertical-align: middle;\n",
       "    }\n",
       "\n",
       "    .dataframe tbody tr th {\n",
       "        vertical-align: top;\n",
       "    }\n",
       "\n",
       "    .dataframe thead th {\n",
       "        text-align: right;\n",
       "    }\n",
       "</style>\n",
       "<table border=\"1\" class=\"dataframe\">\n",
       "  <thead>\n",
       "    <tr style=\"text-align: right;\">\n",
       "      <th></th>\n",
       "      <th>level_0</th>\n",
       "      <th>index</th>\n",
       "      <th>Avg. Energy Burden (% income)</th>\n",
       "    </tr>\n",
       "  </thead>\n",
       "  <tbody>\n",
       "    <tr>\n",
       "      <th>0</th>\n",
       "      <td>0</td>\n",
       "      <td>2</td>\n",
       "      <td>3298</td>\n",
       "    </tr>\n",
       "    <tr>\n",
       "      <th>1</th>\n",
       "      <td>1</td>\n",
       "      <td>1</td>\n",
       "      <td>2552</td>\n",
       "    </tr>\n",
       "    <tr>\n",
       "      <th>2</th>\n",
       "      <td>2</td>\n",
       "      <td>3</td>\n",
       "      <td>1260</td>\n",
       "    </tr>\n",
       "    <tr>\n",
       "      <th>3</th>\n",
       "      <td>3</td>\n",
       "      <td>4</td>\n",
       "      <td>550</td>\n",
       "    </tr>\n",
       "    <tr>\n",
       "      <th>4</th>\n",
       "      <td>4</td>\n",
       "      <td>5</td>\n",
       "      <td>214</td>\n",
       "    </tr>\n",
       "    <tr>\n",
       "      <th>5</th>\n",
       "      <td>5</td>\n",
       "      <td>6</td>\n",
       "      <td>56</td>\n",
       "    </tr>\n",
       "    <tr>\n",
       "      <th>6</th>\n",
       "      <td>6</td>\n",
       "      <td>7</td>\n",
       "      <td>21</td>\n",
       "    </tr>\n",
       "    <tr>\n",
       "      <th>7</th>\n",
       "      <td>7</td>\n",
       "      <td>8</td>\n",
       "      <td>3</td>\n",
       "    </tr>\n",
       "    <tr>\n",
       "      <th>8</th>\n",
       "      <td>8</td>\n",
       "      <td>71</td>\n",
       "      <td>1</td>\n",
       "    </tr>\n",
       "    <tr>\n",
       "      <th>9</th>\n",
       "      <td>9</td>\n",
       "      <td>10</td>\n",
       "      <td>1</td>\n",
       "    </tr>\n",
       "  </tbody>\n",
       "</table>\n",
       "</div>"
      ],
      "text/plain": [
       "   level_0  index  Avg. Energy Burden (% income)\n",
       "0        0      2                           3298\n",
       "1        1      1                           2552\n",
       "2        2      3                           1260\n",
       "3        3      4                            550\n",
       "4        4      5                            214\n",
       "5        5      6                             56\n",
       "6        6      7                             21\n",
       "7        7      8                              3\n",
       "8        8     71                              1\n",
       "9        9     10                              1"
      ]
     },
     "execution_count": 43,
     "metadata": {},
     "output_type": "execute_result"
    }
   ],
   "source": [
    "energyburden_count"
   ]
  },
  {
   "cell_type": "markdown",
   "id": "e2a7ebdc-6c20-4522-8652-d30d79833f55",
   "metadata": {},
   "source": [
    "Next, I will rename the column headers."
   ]
  },
  {
   "cell_type": "code",
   "execution_count": 46,
   "id": "82c40a28-5deb-481f-8516-473c6ac8d2a0",
   "metadata": {},
   "outputs": [],
   "source": [
    "energyburden_count.columns = ['level_0', 'avg energy burden', 'count']"
   ]
  },
  {
   "cell_type": "code",
   "execution_count": 47,
   "id": "545f9bf6-2835-4eb0-85c5-c4df0706a826",
   "metadata": {},
   "outputs": [
    {
     "data": {
      "text/html": [
       "<div>\n",
       "<style scoped>\n",
       "    .dataframe tbody tr th:only-of-type {\n",
       "        vertical-align: middle;\n",
       "    }\n",
       "\n",
       "    .dataframe tbody tr th {\n",
       "        vertical-align: top;\n",
       "    }\n",
       "\n",
       "    .dataframe thead th {\n",
       "        text-align: right;\n",
       "    }\n",
       "</style>\n",
       "<table border=\"1\" class=\"dataframe\">\n",
       "  <thead>\n",
       "    <tr style=\"text-align: right;\">\n",
       "      <th></th>\n",
       "      <th>level_0</th>\n",
       "      <th>avg energy burden</th>\n",
       "      <th>count</th>\n",
       "    </tr>\n",
       "  </thead>\n",
       "  <tbody>\n",
       "    <tr>\n",
       "      <th>0</th>\n",
       "      <td>0</td>\n",
       "      <td>2</td>\n",
       "      <td>3298</td>\n",
       "    </tr>\n",
       "    <tr>\n",
       "      <th>1</th>\n",
       "      <td>1</td>\n",
       "      <td>1</td>\n",
       "      <td>2552</td>\n",
       "    </tr>\n",
       "    <tr>\n",
       "      <th>2</th>\n",
       "      <td>2</td>\n",
       "      <td>3</td>\n",
       "      <td>1260</td>\n",
       "    </tr>\n",
       "    <tr>\n",
       "      <th>3</th>\n",
       "      <td>3</td>\n",
       "      <td>4</td>\n",
       "      <td>550</td>\n",
       "    </tr>\n",
       "    <tr>\n",
       "      <th>4</th>\n",
       "      <td>4</td>\n",
       "      <td>5</td>\n",
       "      <td>214</td>\n",
       "    </tr>\n",
       "    <tr>\n",
       "      <th>5</th>\n",
       "      <td>5</td>\n",
       "      <td>6</td>\n",
       "      <td>56</td>\n",
       "    </tr>\n",
       "    <tr>\n",
       "      <th>6</th>\n",
       "      <td>6</td>\n",
       "      <td>7</td>\n",
       "      <td>21</td>\n",
       "    </tr>\n",
       "    <tr>\n",
       "      <th>7</th>\n",
       "      <td>7</td>\n",
       "      <td>8</td>\n",
       "      <td>3</td>\n",
       "    </tr>\n",
       "    <tr>\n",
       "      <th>8</th>\n",
       "      <td>8</td>\n",
       "      <td>71</td>\n",
       "      <td>1</td>\n",
       "    </tr>\n",
       "    <tr>\n",
       "      <th>9</th>\n",
       "      <td>9</td>\n",
       "      <td>10</td>\n",
       "      <td>1</td>\n",
       "    </tr>\n",
       "  </tbody>\n",
       "</table>\n",
       "</div>"
      ],
      "text/plain": [
       "   level_0  avg energy burden  count\n",
       "0        0                  2   3298\n",
       "1        1                  1   2552\n",
       "2        2                  3   1260\n",
       "3        3                  4    550\n",
       "4        4                  5    214\n",
       "5        5                  6     56\n",
       "6        6                  7     21\n",
       "7        7                  8      3\n",
       "8        8                 71      1\n",
       "9        9                 10      1"
      ]
     },
     "execution_count": 47,
     "metadata": {},
     "output_type": "execute_result"
    }
   ],
   "source": [
    "energyburden_count"
   ]
  },
  {
   "cell_type": "markdown",
   "id": "5237a46f-ed33-4c82-b90e-0c6c60fd9aed",
   "metadata": {},
   "source": [
    "Next, I will trim my dataset to get rid of the index column. "
   ]
  },
  {
   "cell_type": "code",
   "execution_count": 50,
   "id": "f64b3114-f5d1-4534-b6da-7805efd93c87",
   "metadata": {},
   "outputs": [],
   "source": [
    "desired_columns = ['avg energy burden', 'count']"
   ]
  },
  {
   "cell_type": "code",
   "execution_count": 51,
   "id": "20a5161b-fa1a-4f24-95b0-8d7be2de40e5",
   "metadata": {},
   "outputs": [
    {
     "data": {
      "text/html": [
       "<div>\n",
       "<style scoped>\n",
       "    .dataframe tbody tr th:only-of-type {\n",
       "        vertical-align: middle;\n",
       "    }\n",
       "\n",
       "    .dataframe tbody tr th {\n",
       "        vertical-align: top;\n",
       "    }\n",
       "\n",
       "    .dataframe thead th {\n",
       "        text-align: right;\n",
       "    }\n",
       "</style>\n",
       "<table border=\"1\" class=\"dataframe\">\n",
       "  <thead>\n",
       "    <tr style=\"text-align: right;\">\n",
       "      <th></th>\n",
       "      <th>avg energy burden</th>\n",
       "      <th>count</th>\n",
       "    </tr>\n",
       "  </thead>\n",
       "  <tbody>\n",
       "    <tr>\n",
       "      <th>0</th>\n",
       "      <td>2</td>\n",
       "      <td>3298</td>\n",
       "    </tr>\n",
       "    <tr>\n",
       "      <th>1</th>\n",
       "      <td>1</td>\n",
       "      <td>2552</td>\n",
       "    </tr>\n",
       "    <tr>\n",
       "      <th>2</th>\n",
       "      <td>3</td>\n",
       "      <td>1260</td>\n",
       "    </tr>\n",
       "    <tr>\n",
       "      <th>3</th>\n",
       "      <td>4</td>\n",
       "      <td>550</td>\n",
       "    </tr>\n",
       "    <tr>\n",
       "      <th>4</th>\n",
       "      <td>5</td>\n",
       "      <td>214</td>\n",
       "    </tr>\n",
       "    <tr>\n",
       "      <th>5</th>\n",
       "      <td>6</td>\n",
       "      <td>56</td>\n",
       "    </tr>\n",
       "    <tr>\n",
       "      <th>6</th>\n",
       "      <td>7</td>\n",
       "      <td>21</td>\n",
       "    </tr>\n",
       "    <tr>\n",
       "      <th>7</th>\n",
       "      <td>8</td>\n",
       "      <td>3</td>\n",
       "    </tr>\n",
       "    <tr>\n",
       "      <th>8</th>\n",
       "      <td>71</td>\n",
       "      <td>1</td>\n",
       "    </tr>\n",
       "    <tr>\n",
       "      <th>9</th>\n",
       "      <td>10</td>\n",
       "      <td>1</td>\n",
       "    </tr>\n",
       "  </tbody>\n",
       "</table>\n",
       "</div>"
      ],
      "text/plain": [
       "   avg energy burden  count\n",
       "0                  2   3298\n",
       "1                  1   2552\n",
       "2                  3   1260\n",
       "3                  4    550\n",
       "4                  5    214\n",
       "5                  6     56\n",
       "6                  7     21\n",
       "7                  8      3\n",
       "8                 71      1\n",
       "9                 10      1"
      ]
     },
     "execution_count": 51,
     "metadata": {},
     "output_type": "execute_result"
    }
   ],
   "source": [
    "energyburden_count[desired_columns]"
   ]
  },
  {
   "cell_type": "code",
   "execution_count": 78,
   "id": "7a33561c-37ab-47d7-8633-4abf593cd8b1",
   "metadata": {},
   "outputs": [],
   "source": [
    "energyburden_trimmed = energyburden_count[desired_columns]"
   ]
  },
  {
   "cell_type": "code",
   "execution_count": 79,
   "id": "390b7347-d874-455b-8a2c-ab6fe21c1b13",
   "metadata": {},
   "outputs": [
    {
     "data": {
      "text/html": [
       "<div>\n",
       "<style scoped>\n",
       "    .dataframe tbody tr th:only-of-type {\n",
       "        vertical-align: middle;\n",
       "    }\n",
       "\n",
       "    .dataframe tbody tr th {\n",
       "        vertical-align: top;\n",
       "    }\n",
       "\n",
       "    .dataframe thead th {\n",
       "        text-align: right;\n",
       "    }\n",
       "</style>\n",
       "<table border=\"1\" class=\"dataframe\">\n",
       "  <thead>\n",
       "    <tr style=\"text-align: right;\">\n",
       "      <th></th>\n",
       "      <th>avg energy burden</th>\n",
       "      <th>count</th>\n",
       "    </tr>\n",
       "  </thead>\n",
       "  <tbody>\n",
       "    <tr>\n",
       "      <th>0</th>\n",
       "      <td>2</td>\n",
       "      <td>3298</td>\n",
       "    </tr>\n",
       "    <tr>\n",
       "      <th>1</th>\n",
       "      <td>1</td>\n",
       "      <td>2552</td>\n",
       "    </tr>\n",
       "    <tr>\n",
       "      <th>2</th>\n",
       "      <td>3</td>\n",
       "      <td>1260</td>\n",
       "    </tr>\n",
       "    <tr>\n",
       "      <th>3</th>\n",
       "      <td>4</td>\n",
       "      <td>550</td>\n",
       "    </tr>\n",
       "    <tr>\n",
       "      <th>4</th>\n",
       "      <td>5</td>\n",
       "      <td>214</td>\n",
       "    </tr>\n",
       "    <tr>\n",
       "      <th>5</th>\n",
       "      <td>6</td>\n",
       "      <td>56</td>\n",
       "    </tr>\n",
       "    <tr>\n",
       "      <th>6</th>\n",
       "      <td>7</td>\n",
       "      <td>21</td>\n",
       "    </tr>\n",
       "    <tr>\n",
       "      <th>7</th>\n",
       "      <td>8</td>\n",
       "      <td>3</td>\n",
       "    </tr>\n",
       "    <tr>\n",
       "      <th>8</th>\n",
       "      <td>71</td>\n",
       "      <td>1</td>\n",
       "    </tr>\n",
       "    <tr>\n",
       "      <th>9</th>\n",
       "      <td>10</td>\n",
       "      <td>1</td>\n",
       "    </tr>\n",
       "  </tbody>\n",
       "</table>\n",
       "</div>"
      ],
      "text/plain": [
       "   avg energy burden  count\n",
       "0                  2   3298\n",
       "1                  1   2552\n",
       "2                  3   1260\n",
       "3                  4    550\n",
       "4                  5    214\n",
       "5                  6     56\n",
       "6                  7     21\n",
       "7                  8      3\n",
       "8                 71      1\n",
       "9                 10      1"
      ]
     },
     "execution_count": 79,
     "metadata": {},
     "output_type": "execute_result"
    }
   ],
   "source": [
    "energyburden_trimmed"
   ]
  },
  {
   "cell_type": "markdown",
   "id": "16f8afce-0c3c-41f6-9f1b-f80b836f654d",
   "metadata": {},
   "source": [
    "Now, I will plot my data, using the plot command."
   ]
  },
  {
   "cell_type": "code",
   "execution_count": 80,
   "id": "7ac30ae9-66a9-4ab1-aa79-8f63fffa47cf",
   "metadata": {},
   "outputs": [
    {
     "data": {
      "text/plain": [
       "<AxesSubplot:title={'center':'Frequency of Energy Burden Percentages'}, xlabel='avg energy burden'>"
      ]
     },
     "execution_count": 80,
     "metadata": {},
     "output_type": "execute_result"
    },
    {
     "data": {
      "image/png": "[encoded data removed]",
      "text/plain": [
       "<Figure size 432x288 with 1 Axes>"
      ]
     },
     "metadata": {
      "needs_background": "light"
     },
     "output_type": "display_data"
    }
   ],
   "source": [
    "energyburden_trimmed.plot.bar(x = 'avg energy burden', y = 'count', title = 'Frequency of Energy Burden Percentages')"
   ]
  },
  {
   "cell_type": "markdown",
   "id": "e6812427-1863-4513-a018-9c3605da8b1d",
   "metadata": {},
   "source": [
    "By using the plot command, specifically for a bar chart, I've created a clear bar chat that compares my two columns, average energy burden and count. "
   ]
  },
  {
   "cell_type": "code",
   "execution_count": 90,
   "id": "bcca04b3-89b5-4c95-bf2a-926e1a89c943",
   "metadata": {},
   "outputs": [
    {
     "data": {
      "text/html": [
       "<div>\n",
       "<style scoped>\n",
       "    .dataframe tbody tr th:only-of-type {\n",
       "        vertical-align: middle;\n",
       "    }\n",
       "\n",
       "    .dataframe tbody tr th {\n",
       "        vertical-align: top;\n",
       "    }\n",
       "\n",
       "    .dataframe thead th {\n",
       "        text-align: right;\n",
       "    }\n",
       "</style>\n",
       "<table border=\"1\" class=\"dataframe\">\n",
       "  <thead>\n",
       "    <tr style=\"text-align: right;\">\n",
       "      <th></th>\n",
       "      <th>avg energy burden</th>\n",
       "      <th>count</th>\n",
       "    </tr>\n",
       "  </thead>\n",
       "  <tbody>\n",
       "  </tbody>\n",
       "</table>\n",
       "</div>"
      ],
      "text/plain": [
       "Empty DataFrame\n",
       "Columns: [avg energy burden, count]\n",
       "Index: []"
      ]
     },
     "execution_count": 90,
     "metadata": {},
     "output_type": "execute_result"
    }
   ],
   "source": [
    "energyburden_trimmed.loc[energyburden_trimmed['avg energy burden'] == '2']"
   ]
  },
  {
   "cell_type": "code",
   "execution_count": 92,
   "id": "b886a6b6-c94b-4588-b6f9-a7863a55c177",
   "metadata": {},
   "outputs": [
    {
     "data": {
      "text/html": [
       "<div>\n",
       "<style scoped>\n",
       "    .dataframe tbody tr th:only-of-type {\n",
       "        vertical-align: middle;\n",
       "    }\n",
       "\n",
       "    .dataframe tbody tr th {\n",
       "        vertical-align: top;\n",
       "    }\n",
       "\n",
       "    .dataframe thead th {\n",
       "        text-align: right;\n",
       "    }\n",
       "</style>\n",
       "<table border=\"1\" class=\"dataframe\">\n",
       "  <thead>\n",
       "    <tr style=\"text-align: right;\">\n",
       "      <th></th>\n",
       "      <th>avg energy burden</th>\n",
       "      <th>count</th>\n",
       "    </tr>\n",
       "  </thead>\n",
       "  <tbody>\n",
       "  </tbody>\n",
       "</table>\n",
       "</div>"
      ],
      "text/plain": [
       "Empty DataFrame\n",
       "Columns: [avg energy burden, count]\n",
       "Index: []"
      ]
     },
     "execution_count": 92,
     "metadata": {},
     "output_type": "execute_result"
    }
   ],
   "source": [
    "energyburden_trimmed.query(\"count == '1260'\")"
   ]
  },
  {
   "cell_type": "markdown",
   "id": "8538940b-97c4-45f6-af21-906cb6fc70ae",
   "metadata": {},
   "source": [
    "I'm not sure why my query isn't working, I've tried looking it up but can't figure it out, I apologize! "
   ]
  },
  {
   "cell_type": "code",
   "execution_count": null,
   "id": "95438224-7f43-4be5-ad5b-70fd78c11987",
   "metadata": {},
   "outputs": [],
   "source": []
  }
 ],
 "metadata": {
  "kernelspec": {
   "display_name": "Python 3 (ipykernel)",
   "language": "python",
   "name": "python3"
  },
  "language_info": {
   "codemirror_mode": {
    "name": "ipython",
    "version": 3
   },
   "file_extension": ".py",
   "mimetype": "text/x-python",
   "name": "python",
   "nbconvert_exporter": "python",
   "pygments_lexer": "ipython3",
   "version": "3.9.6"
  }
 },
 "nbformat": 4,
 "nbformat_minor": 5
}
